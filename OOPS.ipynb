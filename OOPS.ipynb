{
  "nbformat": 4,
  "nbformat_minor": 0,
  "metadata": {
    "colab": {
      "provenance": []
    },
    "kernelspec": {
      "name": "python3",
      "display_name": "Python 3"
    },
    "language_info": {
      "name": "python"
    }
  },
  "cells": [
    {
      "cell_type": "markdown",
      "source": [
        "1.) OOP is a way in programming languages that use objects and classes to describe or solve the real world problems.\n",
        "\n",
        "2.)Class is a user defined template for creating objects.\n",
        "\n",
        "3.)Object is an instance of class that represents the real world entity.\n",
        "\n",
        "4.)Abstraction focuses on what an object does whereas encapsulation focuses on how an object 's data is accessed and manipulated.\n",
        "\n",
        "5.)Special methods that use double underscores and are used in operator overloading and behavior customisation are known as duner methods.\n",
        "\n",
        "6.)Inheritance is a concept of oops which helps in derieving the data from the parent class in the child class.\n",
        "\n",
        "7.)Ability of different objects to respond uniquely to the same method or operation is known as polymorphism.\n",
        "\n",
        "8.)By using private and public attributes and methods.\n",
        "\n",
        "9.)Constructor is used to initialise the object 's attributes and is called at the time when object is created.\n",
        "\n",
        "10.)Class methods (@classmethod): Operate on class-level data.\n",
        "Static methods (@staticmethod): Do not depend on instance or class.\n",
        "\n",
        "11.)Advantages:\n",
        "Modularity\n",
        "Scalability\n",
        "Reuseability\n",
        "\n",
        "12.)Method overloading is a concept where more than one method in the class has the same name of the function then the concept of method overloading exists.\n",
        "\n",
        "13.)Redefining parent 's class method into child 's class to provide specific behavior.\n",
        "\n",
        "14.)The @property decorator is used to define getter, setter, and deleter methods for an attribute.\n",
        "\n",
        "15.)Importance of polymorphism:\n",
        "It enhances flexibility and reusability by allowing objects of different types to be treated uniformly.\n",
        "\n",
        "16.)An abstract class is a class in which there is atleast one abstract method.\n",
        "\n",
        "17.)Class variable: Shared across all instances.\n",
        "Instance variable: Unique to each object.\n",
        "\n",
        "18.)In Multiple inheritance a class can inherientfrom various parent classes.\n",
        "\n",
        "19.)__str__: User-friendly string representation.\n",
        "__repr__: Developer-friendly string representation.\n",
        "\n",
        "20.)super(): Accesses methods of a parent class to avoid code duplication.\n",
        "__del__:Called when an object is deleted to perform cleanup actions\n",
        "\n",
        "21.)@staticmethod: No access to class or instance.\n",
        "@classmethod: Access to the class but not instance.\n",
        "\n",
        "22.)Polymorphism work in Python with inheritance as Subclasses can override parent class methods, enabling different behaviors.\n",
        "\n",
        "23.)Calling multiple methods on the same object consecutively (e.g., obj.method1) is called chaining in python.'\n",
        "\n",
        "24.)__call__:Allows an object to be called like a function\n"
      ],
      "metadata": {
        "id": "BBgmU5cbyU0U"
      }
    },
    {
      "cell_type": "code",
      "source": [
        "#1.)\n",
        "class Animal:\n",
        "    def speak(self):\n",
        "        print(\"This is a generic animal sound.\")\n",
        "\n",
        "class Dog(Animal):\n",
        "    def speak(self):\n",
        "        print(\"Bark!\")\n",
        "dog = Dog()\n",
        "dog.speak()\n"
      ],
      "metadata": {
        "id": "Da1KXJ4TFOyg"
      },
      "execution_count": null,
      "outputs": []
    },
    {
      "cell_type": "code",
      "source": [
        "#2.)\n",
        "from abc import ABC, abstractmethod\n",
        "\n",
        "class Shape(ABC):\n",
        "    @abstractmethod\n",
        "    def area(self):\n",
        "        pass\n",
        "\n",
        "class Circle(Shape):\n",
        "    def __init__(self, radius):\n",
        "        self.radius = radius\n",
        "\n",
        "    def area(self):\n",
        "        return 3.14159 * self.radius ** 2\n",
        "\n",
        "class Rectangle(Shape):\n",
        "    def __init__(self, width, height):\n",
        "        self.width = width\n",
        "        self.height = height\n",
        "\n",
        "    def area(self):\n",
        "        return self.width * self.height\n",
        "circle = Circle(5)\n",
        "rectangle = Rectangle(4, 6)\n",
        "print(\"Circle Area:\", circle.area())\n",
        "print(\"Rectangle Area:\", rectangle.area())\n"
      ],
      "metadata": {
        "id": "nh3Tr573FRfg"
      },
      "execution_count": null,
      "outputs": []
    },
    {
      "cell_type": "code",
      "source": [
        "#3.)\n",
        "class Vehicle:\n",
        "    def __init__(self, vehicle_type):\n",
        "        self.type = vehicle_type\n",
        "\n",
        "class Car(Vehicle):\n",
        "    def __init__(self, vehicle_type, brand):\n",
        "        super().__init__(vehicle_type)\n",
        "        self.brand = brand\n",
        "\n",
        "class ElectricCar(Car):\n",
        "    def __init__(self, vehicle_type, brand, battery_capacity):\n",
        "        super().__init__(vehicle_type, brand)\n",
        "        self.battery = battery_capacity\n",
        "tesla = ElectricCar(\"Car\", \"Tesla\", \"100 kWh\")\n",
        "print(tesla.type, tesla.brand, tesla.battery)\n"
      ],
      "metadata": {
        "id": "3Ef6nLZQFfjr"
      },
      "execution_count": null,
      "outputs": []
    },
    {
      "cell_type": "code",
      "source": [
        "#4.)\n",
        "class BankAccount:\n",
        "    def __init__(self):\n",
        "        self.__balance = 0\n",
        "\n",
        "    def deposit(self, amount):\n",
        "        if amount > 0:\n",
        "            self.__balance += amount\n",
        "\n",
        "    def withdraw(self, amount):\n",
        "        if 0 < amount <= self.__balance:\n",
        "            self.__balance -= amount\n",
        "        else:\n",
        "            print(\"Invalid withdrawal amount\")\n",
        "\n",
        "    def check_balance(self):\n",
        "        return self.__balance\n",
        "account = BankAccount()\n",
        "account.deposit(100)\n",
        "account.withdraw(50)\n",
        "print(\"Balance:\", account.check_balance())\n"
      ],
      "metadata": {
        "id": "VzNdr1LFGtlI"
      },
      "execution_count": null,
      "outputs": []
    },
    {
      "cell_type": "code",
      "source": [
        "#5.)\n",
        "class Instrument:\n",
        "    def play(self):\n",
        "        print(\"Playing an instrument.\")\n",
        "\n",
        "class Guitar(Instrument):\n",
        "    def play(self):\n",
        "        print(\"Strumming the guitar.\")\n",
        "\n",
        "class Piano(Instrument):\n",
        "    def play(self):\n",
        "        print(\"Playing the piano.\")\n",
        "instruments = [Guitar(), Piano()]\n",
        "for instrument in instruments:\n",
        "    instrument.play()\n"
      ],
      "metadata": {
        "id": "xG7OzgKkG0Mr"
      },
      "execution_count": null,
      "outputs": []
    },
    {
      "cell_type": "code",
      "source": [
        "#6.)\n",
        "class MathOperations:\n",
        "    @classmethod\n",
        "    def add_numbers(cls, a, b):\n",
        "        return a + b\n",
        "\n",
        "    @staticmethod\n",
        "    def subtract_numbers(a, b):\n",
        "        return a - b\n",
        "print(MathOperations.add_numbers(10, 5))\n",
        "print(MathOperations.subtract_numbers(10, 5))\n"
      ],
      "metadata": {
        "id": "3Y8VUDx-G1v1"
      },
      "execution_count": null,
      "outputs": []
    },
    {
      "cell_type": "code",
      "source": [
        "#7.)\n",
        "class Person:\n",
        "    count = 0\n",
        "\n",
        "    def __init__(self, name):\n",
        "        self.name = name\n",
        "        Person.count += 1\n",
        "\n",
        "    @classmethod\n",
        "    def get_count(cls):\n",
        "        return cls.count\n",
        "p1 = Person(\"Alice\")\n",
        "p2 = Person(\"Bob\")\n",
        "print(\"Total Persons:\", Person.get_count())"
      ],
      "metadata": {
        "id": "tYd8H_-lG35Q"
      },
      "execution_count": null,
      "outputs": []
    },
    {
      "cell_type": "code",
      "source": [
        "#8.)\n",
        "class Fraction:\n",
        "    def __init__(self, numerator, denominator):\n",
        "        self.numerator = numerator\n",
        "        self.denominator = denominator\n",
        "\n",
        "    def __str__(self):\n",
        "        return f\"{self.numerator}/{self.denominator}\"\n",
        "fraction = Fraction(3, 4)\n",
        "print(fraction)\n"
      ],
      "metadata": {
        "id": "VE0JFOtBG51R"
      },
      "execution_count": null,
      "outputs": []
    },
    {
      "cell_type": "code",
      "source": [
        "#9.)\n",
        "class Vector:\n",
        "    def __init__(self, x, y):\n",
        "        self.x = x\n",
        "        self.y = y\n",
        "\n",
        "    def __add__(self, other):\n",
        "        return Vector(self.x + other.x, self.y + other.y)\n",
        "\n",
        "    def __str__(self):\n",
        "        return f\"Vector({self.x}, {self.y})\"\n",
        "v1 = Vector(1, 2)\n",
        "v2 = Vector(3, 4)\n",
        "v3 = v1 + v2\n",
        "print(v3)\n"
      ],
      "metadata": {
        "id": "BejC_lq4G7bA"
      },
      "execution_count": null,
      "outputs": []
    },
    {
      "cell_type": "code",
      "source": [
        "#10.)\n",
        "class Person:\n",
        "    def __init__(self, name, age):\n",
        "        self.name = name\n",
        "        self.age = age\n",
        "\n",
        "    def greet(self):\n",
        "        print(f\"Hello, my name is {self.name} and I am {self.age} years old.\")\n",
        "person = Person(\"Alice\", 30)\n",
        "person.greet()\n"
      ],
      "metadata": {
        "id": "8qGidz91G86O"
      },
      "execution_count": null,
      "outputs": []
    },
    {
      "cell_type": "code",
      "source": [
        "#11.)\n",
        "class Person:\n",
        "    def __init__(self, name, age):\n",
        "        self.name = name\n",
        "        self.age = age\n",
        "\n",
        "    def greet(self):\n",
        "        print(f\"Hello, my name is {self.name} and I am {self.age} years old.\")\n",
        "person = Person(\"Alice\", 30)\n",
        "person.greet()\n"
      ],
      "metadata": {
        "id": "ohXzq0ydG-Rp"
      },
      "execution_count": null,
      "outputs": []
    },
    {
      "cell_type": "code",
      "source": [
        "#12.)\n",
        "class Student:\n",
        "    def __init__(self, name, grades):\n",
        "        self.name = name\n",
        "        self.grades = grades\n",
        "\n",
        "    def average_grade(self):\n",
        "        return sum(self.grades) / len(self.grades) if self.grades else 0\n",
        "student = Student(\"Bob\", [85, 90, 78, 92])\n",
        "print(f\"{student.name}'s Average Grade: {student.average_grade()}\")\n"
      ],
      "metadata": {
        "id": "0SGEuTzbG_xI"
      },
      "execution_count": null,
      "outputs": []
    },
    {
      "cell_type": "code",
      "source": [
        "#13.)\n",
        "class Rectangle:\n",
        "    def __init__(self):\n",
        "        self.width = 0\n",
        "        self.height = 0\n",
        "\n",
        "    def set_dimensions(self, width, height):\n",
        "        self.width = width\n",
        "        self.height = height\n",
        "\n",
        "    def area(self):\n",
        "        return self.width * self.height\n",
        "\n",
        "rectangle = Rectangle()\n",
        "rectangle.set_dimensions(4, 5)\n",
        "print(\"Area of the Rectangle:\", rectangle.area())\n"
      ],
      "metadata": {
        "id": "mNeEU0NnHBUP"
      },
      "execution_count": null,
      "outputs": []
    },
    {
      "cell_type": "code",
      "source": [
        "#14.)\n",
        "class Employee:\n",
        "    def __init__(self, hours_worked, hourly_rate):\n",
        "        self.hours_worked = hours_worked\n",
        "        self.hourly_rate = hourly_rate\n",
        "\n",
        "    def calculate_salary(self):\n",
        "        return self.hours_worked * self.hourly_rate\n",
        "\n",
        "class Manager(Employee):\n",
        "    def __init__(self, hours_worked, hourly_rate, bonus):\n",
        "        super().__init__(hours_worked, hourly_rate)\n",
        "        self.bonus = bonus\n",
        "\n",
        "    def calculate_salary(self):\n",
        "        return super().calculate_salary() + self.bonus\n",
        "employee = Employee(40, 20)\n",
        "manager = Manager(40, 30, 500)\n",
        "print(\"Employee Salary:\", employee.calculate_salary())\n",
        "print(\"Manager Salary:\", manager.calculate_salary())\n"
      ],
      "metadata": {
        "id": "Ilj14O9zIX9O"
      },
      "execution_count": null,
      "outputs": []
    },
    {
      "cell_type": "code",
      "source": [
        "#15.)\n",
        "class Product:\n",
        "    def __init__(self, name, price, quantity):\n",
        "        self.name = name\n",
        "        self.price = price\n",
        "        self.quantity = quantity\n",
        "\n",
        "    def total_price(self):\n",
        "        return self.price * self.quantity\n",
        "product = Product(\"Laptop\", 1000, 3)\n",
        "print(f\"Total price for {product.quantity} {product.name}(s): ${product.total_price()}\")\n"
      ],
      "metadata": {
        "id": "2x_ZBU1UIZGP"
      },
      "execution_count": null,
      "outputs": []
    },
    {
      "cell_type": "code",
      "source": [
        "#16.)\n",
        "from abc import ABC, abstractmethod\n",
        "\n",
        "class Animal(ABC):\n",
        "    @abstractmethod\n",
        "    def sound(self):\n",
        "        pass\n",
        "\n",
        "class Cow(Animal):\n",
        "    def sound(self):\n",
        "        return \"Moo\"\n",
        "\n",
        "class Sheep(Animal):\n",
        "    def sound(self):\n",
        "        return \"Baa\"\n",
        "cow = Cow()\n",
        "sheep = Sheep()\n",
        "print(\"Cow Sound:\", cow.sound())\n",
        "print(\"Sheep Sound:\", sheep.sound())\n"
      ],
      "metadata": {
        "id": "kdUPnecfItiu"
      },
      "execution_count": null,
      "outputs": []
    },
    {
      "cell_type": "code",
      "source": [
        "#17.)\n",
        "class Book:\n",
        "    def __init__(self, title, author, year_published):\n",
        "        self.title = title\n",
        "        self.author = author\n",
        "        self.year_published = year_published\n",
        "\n",
        "    def get_book_info(self):\n",
        "        return f\"'{self.title}' by {self.author}, published in {self.year_published}.\"\n",
        "book = Book(\"1984\", \"George Orwell\", 1949)\n",
        "print(book.get_book_info())\n"
      ],
      "metadata": {
        "id": "u916tSQqIuxq"
      },
      "execution_count": null,
      "outputs": []
    },
    {
      "cell_type": "code",
      "source": [
        "#18.)\n",
        "class House:\n",
        "    def __init__(self, address, price):\n",
        "        self.address = address\n",
        "        self.price = price\n",
        "\n",
        "class Mansion(House):\n",
        "    def __init__(self, address, price, number_of_rooms):\n",
        "        super().__init__(address, price)\n",
        "        self.number_of_rooms = number_of_rooms\n",
        "mansion = Mansion(\"123 Luxury Lane\", 5000000, 10)\n",
        "print(f\"Address: {mansion.address}, Price: ${mansion.price}, Rooms: {mansion.number_of_rooms}\")\n"
      ],
      "metadata": {
        "id": "3gjO5HnXIwN2"
      },
      "execution_count": null,
      "outputs": []
    }
  ]
}